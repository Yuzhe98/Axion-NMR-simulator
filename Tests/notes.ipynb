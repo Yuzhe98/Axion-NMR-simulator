{
 "cells": [
  {
   "cell_type": "markdown",
   "id": "3ae49aab",
   "metadata": {},
   "source": [
    "*Test notes*"
   ]
  },
  {
   "cell_type": "markdown",
   "id": "51a37fd2",
   "metadata": {},
   "source": [
    "**2025-05-19**\n",
    "\n",
    "Finalized the calibration tests"
   ]
  },
  {
   "cell_type": "markdown",
   "id": "eba79156",
   "metadata": {},
   "source": [
    "**2025-05-20**\n",
    "\n",
    "Today I am going to test the stochastic ALP field where $\\tau_a << T_2$. \n",
    "\n"
   ]
  },
  {
   "cell_type": "markdown",
   "id": "80064a0a",
   "metadata": {},
   "source": []
  }
 ],
 "metadata": {
  "language_info": {
   "name": "python"
  }
 },
 "nbformat": 4,
 "nbformat_minor": 5
}
