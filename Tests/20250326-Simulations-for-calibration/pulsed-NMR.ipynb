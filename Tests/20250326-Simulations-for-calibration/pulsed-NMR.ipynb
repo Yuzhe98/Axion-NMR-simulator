{
 "cells": [
  {
   "cell_type": "markdown",
   "metadata": {},
   "source": [
    "### Calibration / sanity check for the simualtion\n",
    "\n",
    "### Pulsed-NMR simulation\n"
   ]
  },
  {
   "cell_type": "markdown",
   "metadata": {},
   "source": []
  },
  {
   "cell_type": "code",
   "execution_count": null,
   "metadata": {},
   "outputs": [
    {
     "name": "stdout",
     "output_type": "stream",
     "text": [
      "c:\\Users\\zhenf\\D\\Yu0702\\NMR-simulator\\Tests\\20250326-Simulations-for-calibration\n",
      "c:\\Users\\zhenf\\D\\Yu0702\\NMR-simulator\n"
     ]
    }
   ],
   "source": [
    "import os\n",
    "import sys\n",
    "\n",
    "print(os.path.abspath(os.curdir))\n",
    "os.chdir(\"..\")  # go to parent folder\n",
    "os.chdir(\"..\")  # go to parent folder\n",
    "\n",
    "print(os.path.abspath(os.curdir))\n",
    "sys.path.insert(0, os.path.abspath(os.curdir))\n"
   ]
  }
 ],
 "metadata": {
  "kernelspec": {
   "display_name": "CASPEr-venv-3.11",
   "language": "python",
   "name": "python3"
  },
  "language_info": {
   "codemirror_mode": {
    "name": "ipython",
    "version": 3
   },
   "file_extension": ".py",
   "mimetype": "text/x-python",
   "name": "python",
   "nbconvert_exporter": "python",
   "pygments_lexer": "ipython3",
   "version": "3.11.9"
  }
 },
 "nbformat": 4,
 "nbformat_minor": 2
}
