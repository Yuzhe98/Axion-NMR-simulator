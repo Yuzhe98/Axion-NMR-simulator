{
 "cells": [
  {
   "cell_type": "markdown",
   "metadata": {},
   "source": [
    "### Calibration / sanity check for the simualtion\n",
    "\n",
    "### Pulsed-NMR simulation\n"
   ]
  },
  {
   "cell_type": "markdown",
   "metadata": {},
   "source": []
  },
  {
   "cell_type": "code",
   "execution_count": 1,
   "metadata": {},
   "outputs": [
    {
     "name": "stdout",
     "output_type": "stream",
     "text": [
      "c:\\Users\\zhenf\\D\\Yu0702\\NMR-simulator\\Tests\\20250326-Simulations-for-calibration\n",
      "c:\\Users\\zhenf\\D\\Yu0702\\NMR-simulator\n"
     ]
    }
   ],
   "source": [
    "import os\n",
    "import sys\n",
    "\n",
    "print(os.path.abspath(os.curdir))\n",
    "os.chdir(\"..\")  # go to parent folder\n",
    "os.chdir(\"..\")  # go to parent folder\n",
    "\n",
    "print(os.path.abspath(os.curdir))\n",
    "sys.path.insert(0, os.path.abspath(os.curdir))\n",
    "from SimuTools import Sample, MagField, Simulation, TTL\n",
    "\n",
    "# from SimuTools import *\n",
    "# from DataAnalysis import *\n",
    "from functioncache import check\n",
    "import numpy as np\n",
    "# sqdsensor = SQUID(name=\"Virtual SQUID\", Mf=1.0, Rf=1.0)  # in Ohm"
   ]
  },
  {
   "cell_type": "code",
   "execution_count": 2,
   "metadata": {},
   "outputs": [],
   "source": [
    "ExampleSample10MHzT = Sample(\n",
    "    name=\"TestSample\",  # name of the atom/molecule\n",
    "    gyroratio=2\n",
    "    * np.pi\n",
    "    * (10)\n",
    "    * 10**6,  # [Hz/T]. Remember input it like 2 * np.pi * 11.777*10**6\n",
    "    numofnuclei=1,  #\n",
    "    tempunit=\"K\",  # temperature scale\n",
    "    boilpt=165.051,  # [K]\n",
    "    meltpt=161.40,  # [K]\n",
    "    density_liquid=2.942,  # [g/cm^3] at boiling point\n",
    "    density_gas=5.894 * 10**3,  # [g/cm^3] at STP\n",
    "    density_solid=None,  # [g/cm^3]\n",
    "    molarmass=131.2930,  # [g/mol]\n",
    "    spindenisty_liquid=None,  # [mol/cm^3]\n",
    "    spindenisty_gas=None,  # [g/cm^3] at STP\n",
    "    spindenisty_solid=None,  # [mol/cm^3]\n",
    "    shareofpeaks=[1.0],  # array or list.\n",
    "    T2=None,  # [s]\n",
    "    T1=1000,  # [s]\n",
    "    pol=1,\n",
    "    verbose=False,\n",
    ")"
   ]
  },
  {
   "cell_type": "code",
   "execution_count": 3,
   "metadata": {},
   "outputs": [],
   "source": [
    "# biasField = MagField(name=\"bias field\") # excitation field in the rotating frame"
   ]
  },
  {
   "cell_type": "code",
   "execution_count": 4,
   "metadata": {},
   "outputs": [],
   "source": [
    "excField = MagField(name=\"excitation field\") # excitation field in the rotating frame\n",
    "# excField.nu = 1e6  # [Hz]"
   ]
  },
  {
   "cell_type": "code",
   "execution_count": 5,
   "metadata": {},
   "outputs": [
    {
     "ename": "TypeError",
     "evalue": "bad operand type for abs(): 'NoneType'",
     "output_type": "error",
     "traceback": [
      "\u001b[1;31m---------------------------------------------------------------------------\u001b[0m",
      "\u001b[1;31mTypeError\u001b[0m                                 Traceback (most recent call last)",
      "Cell \u001b[1;32mIn[5], line 1\u001b[0m\n\u001b[1;32m----> 1\u001b[0m simu \u001b[38;5;241m=\u001b[39m \u001b[43mSimulation\u001b[49m\u001b[43m(\u001b[49m\n\u001b[0;32m      2\u001b[0m \u001b[43m                \u001b[49m\u001b[43mname\u001b[49m\u001b[38;5;241;43m=\u001b[39;49m\u001b[38;5;124;43m\"\u001b[39;49m\u001b[38;5;124;43mTestSample 10MHzT\u001b[39;49m\u001b[38;5;124;43m\"\u001b[39;49m\u001b[43m,\u001b[49m\n\u001b[0;32m      3\u001b[0m \u001b[43m                \u001b[49m\u001b[43msample\u001b[49m\u001b[38;5;241;43m=\u001b[39;49m\u001b[43mExampleSample10MHzT\u001b[49m\u001b[43m,\u001b[49m\u001b[43m  \u001b[49m\u001b[38;5;66;43;03m# class Sample\u001b[39;49;00m\n\u001b[0;32m      4\u001b[0m \u001b[43m                \u001b[49m\u001b[38;5;66;43;03m# gyroratio=(2*np.pi)*11.777*10**6,  # [Hz/T]\u001b[39;49;00m\n\u001b[0;32m      5\u001b[0m \u001b[43m                \u001b[49m\u001b[43minit_time\u001b[49m\u001b[38;5;241;43m=\u001b[39;49m\u001b[38;5;241;43m0.0\u001b[39;49m\u001b[43m,\u001b[49m\u001b[43m  \u001b[49m\u001b[38;5;66;43;03m# [s]\u001b[39;49;00m\n\u001b[0;32m      6\u001b[0m \u001b[43m                \u001b[49m\u001b[43mstation\u001b[49m\u001b[38;5;241;43m=\u001b[39;49m\u001b[38;5;28;43;01mNone\u001b[39;49;00m\u001b[43m,\u001b[49m\n\u001b[0;32m      7\u001b[0m \u001b[43m                \u001b[49m\u001b[43minit_magamp\u001b[49m\u001b[38;5;241;43m=\u001b[39;49m\u001b[38;5;241;43m1.0\u001b[39;49m\u001b[43m,\u001b[49m\n\u001b[0;32m      8\u001b[0m \u001b[43m                \u001b[49m\u001b[43minit_magtheta\u001b[49m\u001b[38;5;241;43m=\u001b[39;49m\u001b[38;5;241;43m0.0\u001b[39;49m\u001b[43m,\u001b[49m\u001b[43m  \u001b[49m\u001b[38;5;66;43;03m# [rad]\u001b[39;49;00m\n\u001b[0;32m      9\u001b[0m \u001b[43m                \u001b[49m\u001b[43minit_magphi\u001b[49m\u001b[38;5;241;43m=\u001b[39;49m\u001b[38;5;241;43m0.0\u001b[39;49m\u001b[43m,\u001b[49m\u001b[43m  \u001b[49m\u001b[38;5;66;43;03m# [rad]\u001b[39;49;00m\n\u001b[0;32m     10\u001b[0m \u001b[43m                \u001b[49m\u001b[43mB0z\u001b[49m\u001b[38;5;241;43m=\u001b[39;49m\u001b[43m(\u001b[49m\u001b[38;5;241;43m1e6\u001b[39;49m\u001b[43m \u001b[49m\u001b[38;5;241;43m-\u001b[39;49m\u001b[43m \u001b[49m\u001b[38;5;241;43m40\u001b[39;49m\u001b[43m)\u001b[49m\n\u001b[0;32m     11\u001b[0m \u001b[43m                \u001b[49m\u001b[38;5;241;43m/\u001b[39;49m\u001b[43m \u001b[49m\u001b[43m(\u001b[49m\u001b[43mExampleSample10MHzT\u001b[49m\u001b[38;5;241;43m.\u001b[39;49m\u001b[43mgyroratio\u001b[49m\u001b[43m \u001b[49m\u001b[38;5;241;43m/\u001b[39;49m\u001b[43m \u001b[49m\u001b[43m(\u001b[49m\u001b[38;5;241;43m2\u001b[39;49m\u001b[43m \u001b[49m\u001b[38;5;241;43m*\u001b[39;49m\u001b[43m \u001b[49m\u001b[43mnp\u001b[49m\u001b[38;5;241;43m.\u001b[39;49m\u001b[43mpi\u001b[49m\u001b[43m)\u001b[49m\u001b[43m)\u001b[49m\u001b[43m,\u001b[49m\u001b[43m  \u001b[49m\u001b[38;5;66;43;03m# [T]\u001b[39;49;00m\n\u001b[0;32m     12\u001b[0m \u001b[43m                \u001b[49m\u001b[43msimuRate\u001b[49m\u001b[38;5;241;43m=\u001b[39;49m\u001b[43m(\u001b[49m\u001b[38;5;241;43m6696.42871094\u001b[39;49m\u001b[43m)\u001b[49m\u001b[43m,\u001b[49m\u001b[43m  \u001b[49m\u001b[38;5;66;43;03m# max(10000, a\u001b[39;49;00m\n\u001b[0;32m     13\u001b[0m \u001b[43m                \u001b[49m\u001b[43mexcField\u001b[49m\u001b[38;5;241;43m=\u001b[39;49m\u001b[43mexcField\u001b[49m\u001b[43m,\u001b[49m\n\u001b[0;32m     14\u001b[0m \u001b[43m                \u001b[49m\u001b[43mverbose\u001b[49m\u001b[38;5;241;43m=\u001b[39;49m\u001b[38;5;28;43;01mFalse\u001b[39;49;00m\u001b[43m,\u001b[49m\n\u001b[0;32m     15\u001b[0m \u001b[43m            \u001b[49m\u001b[43m)\u001b[49m\n",
      "File \u001b[1;32mc:\\Users\\zhenf\\D\\Yu0702\\NMR-simulator\\SimuTools.py:392\u001b[0m, in \u001b[0;36mSimulation.__init__\u001b[1;34m(self, name, sample, station, init_time, init_magamp, init_magtheta, init_magphi, init_phase, B0z, simuRate, excField, verbose)\u001b[0m\n\u001b[0;32m    388\u001b[0m \u001b[38;5;28mself\u001b[39m\u001b[38;5;241m.\u001b[39mexcField \u001b[38;5;241m=\u001b[39m excField\n\u001b[0;32m    389\u001b[0m \u001b[38;5;66;03m# self.simutimestep = self.simustep * self.ALPwind.cohT\u001b[39;00m\n\u001b[0;32m    390\u001b[0m \u001b[38;5;66;03m# self.simutimerate = 1.0 / self.simutimestep\u001b[39;00m\n\u001b[1;32m--> 392\u001b[0m \u001b[38;5;28mself\u001b[39m\u001b[38;5;241m.\u001b[39mnu_rot \u001b[38;5;241m=\u001b[39m \u001b[38;5;28;43mabs\u001b[39;49m\u001b[43m(\u001b[49m\u001b[38;5;28;43mself\u001b[39;49m\u001b[38;5;241;43m.\u001b[39;49m\u001b[43mexcField\u001b[49m\u001b[38;5;241;43m.\u001b[39;49m\u001b[43mnu\u001b[49m\u001b[43m)\u001b[49m \u001b[38;5;241m-\u001b[39m \u001b[38;5;28mabs\u001b[39m(\n\u001b[0;32m    393\u001b[0m     \u001b[38;5;28mself\u001b[39m\u001b[38;5;241m.\u001b[39msample\u001b[38;5;241m.\u001b[39mgyroratio \u001b[38;5;241m*\u001b[39m \u001b[38;5;28mself\u001b[39m\u001b[38;5;241m.\u001b[39mB0z \u001b[38;5;241m/\u001b[39m (\u001b[38;5;241m2\u001b[39m \u001b[38;5;241m*\u001b[39m np\u001b[38;5;241m.\u001b[39mpi)\n\u001b[0;32m    394\u001b[0m )  \u001b[38;5;66;03m# frequency difference between the excitation field and the Larmor frequency\u001b[39;00m\n\u001b[0;32m    395\u001b[0m \u001b[38;5;66;03m# nu_rot is the Larmor frequency of the magnetization in the rotating frame\u001b[39;00m\n\u001b[0;32m    396\u001b[0m \n\u001b[0;32m    397\u001b[0m \u001b[38;5;66;03m# check(self.nu_rot)\u001b[39;00m\n\u001b[0;32m    398\u001b[0m \u001b[38;5;66;03m# check(abs(self.sample.gyroratio*self.B0z/(2*np.pi)))\u001b[39;00m\n\u001b[0;32m    399\u001b[0m \u001b[38;5;66;03m# check(abs(self.ALPwind.nu))\u001b[39;00m\n\u001b[0;32m    400\u001b[0m \u001b[38;5;28mself\u001b[39m\u001b[38;5;241m.\u001b[39mT2 \u001b[38;5;241m=\u001b[39m \u001b[38;5;241m1.0\u001b[39m \u001b[38;5;241m*\u001b[39m sample\u001b[38;5;241m.\u001b[39mT2\n",
      "\u001b[1;31mTypeError\u001b[0m: bad operand type for abs(): 'NoneType'"
     ]
    }
   ],
   "source": [
    "simu = Simulation(\n",
    "                name=\"TestSample 10MHzT\",\n",
    "                sample=ExampleSample10MHzT,  # class Sample\n",
    "                # gyroratio=(2*np.pi)*11.777*10**6,  # [Hz/T]\n",
    "                init_time=0.0,  # [s]\n",
    "                station=None,\n",
    "                init_magamp=1.0,\n",
    "                init_magtheta=0.0,  # [rad]\n",
    "                init_magphi=0.0,  # [rad]\n",
    "                B0z=(1e6 - 40)\n",
    "                / (ExampleSample10MHzT.gyroratio / (2 * np.pi)),  # [T]\n",
    "                simuRate=(6696.42871094),  # max(10000, a\n",
    "                excField=excField,\n",
    "                verbose=False,\n",
    "            )"
   ]
  },
  {
   "cell_type": "code",
   "execution_count": null,
   "metadata": {},
   "outputs": [],
   "source": [
    "listofGammaandSAmp = []\n",
    "listofT2andavgMtsq = []\n",
    "listofspectrum = []\n",
    "gaNNorder_arr = np.arange(-2.0, -11.0, -0.5)\n",
    "ALPnuorder_arr = np.arange(3.0, 7.0, 1)\n",
    "for ALPnuorder in [6]:\n",
    "    check(ALPnuorder)\n",
    "    for T2star in [\n",
    "        0.2\n",
    "    ]:  # 0.0001, 0.001, , 0.1 5.0, 10.0, , 20.0, 30.0, 40.0, 50.0, 100.0 0.1,  [2,10,50,100], 10**(1.5), 100, 10**(2.5), 1000\n",
    "        # [0.1, 1, 10**(0.5), 10, 10**(1.5), 100, 10**(2.5), 1000]\n",
    "        #\n",
    "        # check(T2star)\n",
    "        for gaNNorder in [-1.4]:\n",
    "            # check(gaNNorder)\n",
    "            # axionwind = AxionWind(\n",
    "            # \tname='ALP',\n",
    "            # \tnu=10 ** ALPnuorder,  # compton frequency in [Hz]\n",
    "            # \tGamma=5. * 10. ** (-6),  # spectrum linewidth.\n",
    "            # \tgaNN=10**gaNNorder,  # in Gev^-1\n",
    "            # \tdirection_solar=np.array([1, 90*np.pi/180., - 90. * np.pi / 180]),\n",
    "            # \tverbose=False\n",
    "            # \t)\n",
    "            simu = Simulation(\n",
    "                name=\"TestSample 10MHzT\",\n",
    "                sample=ExampleSample10MHzT,  # class Sample\n",
    "                # gyroratio=(2*np.pi)*11.777*10**6,  # [Hz/T]\n",
    "                init_time=0.0,  # [s]\n",
    "                station=Mainz,\n",
    "                init_magamp=1.0,\n",
    "                init_magtheta=0.0,  # [rad]\n",
    "                init_magphi=0.0,  # [rad]\n",
    "                B0z=(10**ALPnuorder - 40)\n",
    "                / (ExampleSample10MHzT.gyroratio / (2 * np.pi)),  # [T]\n",
    "                simuRate=(6696.42871094),  # max(10000, a\n",
    "                excField=excField,\n",
    "                verbose=False,\n",
    "            )\n",
    "\n",
    "            # set excitation field\n",
    "            simuDur = 1\n",
    "            simuTimeStamp = np.linspace(0, simuDur, num=int(simuDur / simu.simuRate))\n",
    "            pulseDur = 100e-6\n",
    "            B1 = (np.pi /2) / (simu.sample.gyroratio * pulseDur)\n",
    "            duty_func = partial(TTL, start=0, stop=pulseDur)\n",
    "            excField.setSinPulseExcitation(\n",
    "                timeStamp=simuTimeStamp,\n",
    "                B1=B1,  # amplitude of the excitation pulse in [T]\n",
    "                nu_e=0.1,  # Hz\n",
    "                init_phase=0,\n",
    "                duty_func=duty_func,\n",
    "                verbose= False,\n",
    "            )\n",
    "            # check(magnetization.nu_rot)\n",
    "            # # tic = time.perf_counter()\n",
    "            # magnetization.GenerateParam(\n",
    "            # \t\tnumofcohT=1,  #max(10 * T2star, 1)\n",
    "            # \t\tmethod='RandomJump',  #'ThermalLight' 'RandomJump' 'InfCoherence'\n",
    "            # \t\tshowplt=False,  # whether to plot B_ALP\n",
    "            # \t\tplotrate=0.1,\n",
    "            # \t\tverbose=False\n",
    "            # \t\t)\n",
    "            # toc = time.perf_counter()\n",
    "            # print(f'GenerateParam time consumption = {toc-tic:.3f} s')\n",
    "            # simurate 1000, numofcohT=100/axionwind.cohT, not usejit. time = 2.3 s\n",
    "            # simurate 1000, numofcohT=100/axionwind.cohT, usejit @jit. time = 1.8 s\n",
    "            # simurate 1000, numofcohT=100/axionwind.cohT, usejit @jit(types blabla). time = 0.1 s\n",
    "            # simurate 1000, numofcohT=1000/axionwind.cohT, usejit @jit(types blabla). time = 1.1 s\n",
    "            # simurate 1000, numofcohT=100000/axionwind.cohT, usejit @jit(types blabla). time = 107.1 s\n",
    "\n",
    "            tic = time.perf_counter()\n",
    "            simu.GenerateTrajectory(verbose=False)\n",
    "            toc = time.perf_counter()\n",
    "            # print(f'GenerateTrajectory time consumption = {toc-tic:.3f} s')\n",
    "            # simurate 1000, numofcohT=100/axionwind.cohT, not usejit. time = 4.2 s\n",
    "            # simurate 1000, numofcohT=100/axionwind.cohT, usejit @jit. time = 1.6 s\n",
    "            # simurate 1000, numofcohT=100/axionwind.cohT, usejit @jit(types blabla). time = 0.208 s\n",
    "            # simurate 1000, numofcohT=1000/axionwind.cohT, usejit @jit(types blabla). time = 2.069 s\n",
    "\n",
    "            simu.MonitorTrajectory(plotrate=10**3, verbose=True)\n",
    "            simu.VisualizeTrajectory3D(\n",
    "                plotrate=10**3,  # [Hz]\n",
    "                # rotframe=True,\n",
    "                verbose=False,\n",
    "            )\n",
    "            # magnetization.SaveTrajectory(\n",
    "            # \t\th5fpathandname=f'K:/CASPEr data/20220522_NMRKineticSimu_data_test2/sample_IDEN/'+\\\n",
    "            # \t\t\t\t\t\tf'simudata_test2_ALPwind.nu_1e{ALPnuorder:.1f}_gaNN_1e{gaNNorder:.1f}_samplelinewidth_{samplelinewidth:g}_'+\\\n",
    "            # \t\t\t\t\t\t\tf'T1_{magnetization.T1:g}_T2_{magnetization.T2:.3g}',\n",
    "            # \t\tsaveintv=1,  # int\n",
    "            # \t\tverbose=False\n",
    "            # )\n",
    "            print(\n",
    "                f\"***************************************************************************\"\n",
    "            )\n",
    "            print(f\"T2* = {simu.T2:e}\")\n",
    "            simu.StatTrajectory(verbose=True)\n",
    "            print(\n",
    "                f\"**************************************************************************\"\n",
    "            )\n",
    "            # processdata = False\n",
    "            # if processdata:"
   ]
  }
 ],
 "metadata": {
  "kernelspec": {
   "display_name": "CASPEr-venv-3.11",
   "language": "python",
   "name": "python3"
  },
  "language_info": {
   "codemirror_mode": {
    "name": "ipython",
    "version": 3
   },
   "file_extension": ".py",
   "mimetype": "text/x-python",
   "name": "python",
   "nbconvert_exporter": "python",
   "pygments_lexer": "ipython3",
   "version": "3.11.9"
  }
 },
 "nbformat": 4,
 "nbformat_minor": 2
}
